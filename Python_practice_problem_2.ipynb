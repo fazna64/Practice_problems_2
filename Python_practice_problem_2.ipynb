{
  "nbformat": 4,
  "nbformat_minor": 0,
  "metadata": {
    "colab": {
      "provenance": []
    },
    "kernelspec": {
      "name": "python3",
      "display_name": "Python 3"
    },
    "language_info": {
      "name": "python"
    }
  },
  "cells": [
    {
      "cell_type": "markdown",
      "source": [
        "**1. Write a Python program to accept a string value from the user and display\n",
        "the count of each character in that string.**"
      ],
      "metadata": {
        "id": "3suFnJt20Pce"
      }
    },
    {
      "cell_type": "code",
      "source": [
        "n=input(\"Enter the String: \")\n",
        "s={}\n",
        "for i in n:\n",
        "    if i in s:\n",
        "        s[i]+=1\n",
        "    else:\n",
        "        s[i]=1\n",
        "print(s)"
      ],
      "metadata": {
        "id": "Y7jMobLG0S0d",
        "colab": {
          "base_uri": "https://localhost:8080/"
        },
        "outputId": "40a56839-2889-48a0-e744-4c0f8188d79f"
      },
      "execution_count": 56,
      "outputs": [
        {
          "output_type": "stream",
          "name": "stdout",
          "text": [
            "Enter the String: liberally\n",
            "{'l': 3, 'i': 1, 'b': 1, 'e': 1, 'r': 1, 'a': 1, 'y': 1}\n"
          ]
        }
      ]
    },
    {
      "cell_type": "markdown",
      "source": [
        "**2. Write a Python function to find the maximum of three numbers.**"
      ],
      "metadata": {
        "id": "C97vGqCA0WL1"
      }
    },
    {
      "cell_type": "code",
      "source": [
        "list=[ 23,48,59,15]\n",
        "max=0\n",
        "i=0\n",
        "for i in list:\n",
        "  if i>max:\n",
        "    max=i\n",
        "\n",
        "print(max,\"is the largest number\")"
      ],
      "metadata": {
        "id": "I5dkkooW0gKP",
        "colab": {
          "base_uri": "https://localhost:8080/"
        },
        "outputId": "67f93d4c-d82b-4a66-fe13-55262d5d5ff8"
      },
      "execution_count": 24,
      "outputs": [
        {
          "output_type": "stream",
          "name": "stdout",
          "text": [
            "59 is the largest number\n"
          ]
        }
      ]
    },
    {
      "cell_type": "markdown",
      "source": [
        "**3. Write a Python function called exponent(base,exp) that returns an\n",
        "integer value of base raises to the power of exp.**"
      ],
      "metadata": {
        "id": "KqttgZB10-C_"
      }
    },
    {
      "cell_type": "code",
      "source": [
        "exponent=lambda base,exp:base**exp\n",
        "exponent(5,3)"
      ],
      "metadata": {
        "colab": {
          "base_uri": "https://localhost:8080/"
        },
        "id": "TSB9HrCy1BS-",
        "outputId": "cc04605e-94fe-4e9c-c649-e2f23fa40607"
      },
      "execution_count": 25,
      "outputs": [
        {
          "output_type": "execute_result",
          "data": {
            "text/plain": [
              "125"
            ]
          },
          "metadata": {},
          "execution_count": 25
        }
      ]
    },
    {
      "cell_type": "markdown",
      "source": [
        "**4. Write a Python function that takes a positive integer and returns the sum\n",
        "of the cube of all the positive integers smaller than the specified number.**"
      ],
      "metadata": {
        "id": "CjxpOg5V4W5g"
      }
    },
    {
      "cell_type": "code",
      "source": [
        "def sum_of_cubes(n):\n",
        "  n=n-1\n",
        "  total = 0\n",
        "  while n > 0:\n",
        "    total=total+ n * n * n\n",
        "    n=n-1\n",
        "  return total\n",
        "print(\"Sum of cubes: \",sum_of_cubes(5))\n"
      ],
      "metadata": {
        "colab": {
          "base_uri": "https://localhost:8080/"
        },
        "id": "RcJ4M_MP4aum",
        "outputId": "74a3b9c1-fabd-4944-b488-07ef884a477d"
      },
      "execution_count": 59,
      "outputs": [
        {
          "output_type": "stream",
          "name": "stdout",
          "text": [
            "Sum of cubes:  100\n"
          ]
        }
      ]
    },
    {
      "cell_type": "markdown",
      "source": [
        "**5. Write a Python program which iterates from 1 to 10. For multiples of 2,\n",
        "print “Fizz” instead of the number and for the multiples of 5, print “Buzz”.\n",
        "For numbers which are multiples of both 2 and 5, print “FizzBuzz”.**"
      ],
      "metadata": {
        "id": "sK2qRajr9XDj"
      }
    },
    {
      "cell_type": "code",
      "source": [
        "for i in range(1, 11):\n",
        "  if i % 2 == 0 and i % 5 == 0:\n",
        "    print(\"FizzBuzz\")\n",
        "  elif i % 2 == 0:\n",
        "    print(\"Fizz\")\n",
        "  elif i % 5 == 0:\n",
        "    print(\"Buzz\")\n",
        "  else:\n",
        "    print(i)"
      ],
      "metadata": {
        "colab": {
          "base_uri": "https://localhost:8080/"
        },
        "id": "3nF_2F129egY",
        "outputId": "6ca4cc47-90fd-4ccb-a639-e9d51f2f28e5"
      },
      "execution_count": 26,
      "outputs": [
        {
          "output_type": "stream",
          "name": "stdout",
          "text": [
            "1\n",
            "Fizz\n",
            "3\n",
            "Fizz\n",
            "Buzz\n",
            "Fizz\n",
            "7\n",
            "Fizz\n",
            "9\n",
            "FizzBuzz\n"
          ]
        }
      ]
    },
    {
      "cell_type": "markdown",
      "source": [
        "**6. Write a Python program to find the most frequent item in a list of\n",
        "numbers.**\n"
      ],
      "metadata": {
        "id": "Aa9WA5jA-GnR"
      }
    },
    {
      "cell_type": "code",
      "source": [
        "def most_frequent_num(numbers):\n",
        "  frequent_num=0\n",
        "  highest_count=0\n",
        "  for i in numbers:\n",
        "    count=numbers.count(i)\n",
        "    if count>highest_count:\n",
        "      highest_count=count\n",
        "      frequent_num=i\n",
        "  return frequent_num\n",
        "\n",
        "numbers=[1,3,2,5,6,3,7,3,6]\n",
        "frequent_num=most_frequent_num(numbers)\n",
        "print(\"Most frequent number in the list is\",frequent_num)\n"
      ],
      "metadata": {
        "colab": {
          "base_uri": "https://localhost:8080/"
        },
        "id": "6IYoab07-Ngq",
        "outputId": "fa9e37d4-73c3-4025-afbf-4d68020e74b2"
      },
      "execution_count": 31,
      "outputs": [
        {
          "output_type": "stream",
          "name": "stdout",
          "text": [
            "Most frequent number in the list is 3\n"
          ]
        }
      ]
    },
    {
      "cell_type": "markdown",
      "source": [
        "**7. Write a Python program to find the sum of squares of the numbers in a\n",
        "list.**"
      ],
      "metadata": {
        "id": "_JTtKHAsCY3X"
      }
    },
    {
      "cell_type": "code",
      "source": [
        "def sum_squares(numbers):\n",
        "  squares=[i**2 for i in numbers]\n",
        "  return sum(squares)\n",
        "\n",
        "numbers=[1,2,3,4]\n",
        "total_sum=sum_squares(numbers)\n",
        "print(total_sum)"
      ],
      "metadata": {
        "colab": {
          "base_uri": "https://localhost:8080/"
        },
        "id": "0qtq8kCMF5su",
        "outputId": "6ea61cca-b239-4dbe-ee71-42ace1e456f8"
      },
      "execution_count": 44,
      "outputs": [
        {
          "output_type": "stream",
          "name": "stdout",
          "text": [
            "30\n"
          ]
        }
      ]
    },
    {
      "cell_type": "markdown",
      "source": [
        "**8. Write a Python program using for loop that will iterate from 1 to 15. For\n",
        "each iteration, check if the current number is odd or even, and display the\n",
        "message to the screen as odd or even.**"
      ],
      "metadata": {
        "id": "CkRMfTW1Gcxc"
      }
    },
    {
      "cell_type": "code",
      "source": [
        "for i in range(1,16):\n",
        "  if i%2==0:\n",
        "    print(i,\"- even\")\n",
        "  else:\n",
        "    print(i,\"- odd\")"
      ],
      "metadata": {
        "colab": {
          "base_uri": "https://localhost:8080/"
        },
        "id": "sk1EOdUZGlLa",
        "outputId": "3213ae40-cfae-4947-d00e-763cabcd7ab8"
      },
      "execution_count": 46,
      "outputs": [
        {
          "output_type": "stream",
          "name": "stdout",
          "text": [
            "1 - odd\n",
            "2 - even\n",
            "3 - odd\n",
            "4 - even\n",
            "5 - odd\n",
            "6 - even\n",
            "7 - odd\n",
            "8 - even\n",
            "9 - odd\n",
            "10 - even\n",
            "11 - odd\n",
            "12 - even\n",
            "13 - odd\n",
            "14 - even\n",
            "15 - odd\n"
          ]
        }
      ]
    },
    {
      "cell_type": "markdown",
      "source": [
        "**9. Write a Python program to convert temperatures to and from Celsius\n",
        "Fahrenheit.**\n",
        "[Formula: c/5=f-32/9 where c=temperature in Celsius and f=\n",
        "temperature in Fahrenheit.]"
      ],
      "metadata": {
        "id": "8Y7wvaWAHgZh"
      }
    },
    {
      "cell_type": "code",
      "source": [
        "def celsius_farenheit(celsius):\n",
        "  return (celsius*9/5)+32\n",
        "\n",
        "def farenheit_celsius(farenheit):\n",
        "  return (farenheit-32)*5/9\n",
        "\n",
        "celsius_temp=20\n",
        "farenheit_temp=68\n",
        "\n",
        "print(\"Temperature in celsius\",celsius_farenheit(celsius_temp))\n",
        "print(\"Temperature in farenheit\",farenheit_celsius(farenheit_temp))\n",
        ""
      ],
      "metadata": {
        "colab": {
          "base_uri": "https://localhost:8080/"
        },
        "id": "5WnR2-1RHuRQ",
        "outputId": "e67be826-825e-494c-b537-6e482c475f59"
      },
      "execution_count": 50,
      "outputs": [
        {
          "output_type": "stream",
          "name": "stdout",
          "text": [
            "Temperature in celsius 68.0\n",
            "Temperature in farenheit 20.0\n"
          ]
        }
      ]
    },
    {
      "cell_type": "markdown",
      "source": [
        "**10. Write a Python function to calculate the factorial of a number (a\n",
        "non negative integer).**"
      ],
      "metadata": {
        "id": "pn2cgKOING80"
      }
    },
    {
      "cell_type": "code",
      "source": [
        "def factorial(n):\n",
        "  if n<=1:\n",
        "    return 1\n",
        "  else:\n",
        "    return n*factorial(n-1)\n",
        "\n",
        "print(factorial(6))"
      ],
      "metadata": {
        "colab": {
          "base_uri": "https://localhost:8080/"
        },
        "id": "BIVWlvn2NX_Y",
        "outputId": "a381946f-49b2-4c20-9fcc-54bdacfbe370"
      },
      "execution_count": 53,
      "outputs": [
        {
          "output_type": "stream",
          "name": "stdout",
          "text": [
            "720\n"
          ]
        }
      ]
    }
  ]
}